{
 "cells": [
  {
   "cell_type": "markdown",
   "metadata": {},
   "source": [
    "## Assignement Details\n",
    "Name        : **Lavish Thomas** <br> \n",
    "Student ID  : **L00150445** <br>\n",
    "Course      : MSc in Big Data Analytics and Artificial Intelligence <br>\n",
    "Module      : Artificial Intelligence 2 <br>\n",
    "File used   : Dracula.txt\n"
   ]
  },
  {
   "cell_type": "code",
   "execution_count": 1,
   "metadata": {},
   "outputs": [],
   "source": [
    "# Importing spaCy Module\n",
    "import spacy\n",
    "\n",
    "# Loading the English language library\n",
    "nlp = spacy.load(\"en_core_web_sm\")    "
   ]
  },
  {
   "cell_type": "markdown",
   "metadata": {},
   "source": [
    "## Q1 : Number of sentences"
   ]
  },
  {
   "cell_type": "code",
   "execution_count": 2,
   "metadata": {},
   "outputs": [],
   "source": [
    "# Reading the dracula text file\n",
    "\n",
    "text_file = open(\"Dracula.txt\", encoding=\"utf-8\")\n",
    "entire_text = text_file.read()"
   ]
  },
  {
   "cell_type": "code",
   "execution_count": 11,
   "metadata": {},
   "outputs": [
    {
     "data": {
      "text/plain": [
       "' thoroughly old-fashioned, for of course I wanted to see all I could of the ways of the country. I was evidently expected, for when I got near the door I faced a cheery-looking elderly woman in the usual peasant dress--white undergarment with long double apron, front, and back, of coloured stuff fitting almost too tight for modesty. When I came close she bowed and said, \"The Herr Englishman?\" \"Yes,\" I said, \"Jonathan Harker.\" She smiled, and gave some message to an elderly man in white shirt-sle'"
      ]
     },
     "execution_count": 11,
     "metadata": {},
     "output_type": "execute_result"
    }
   ],
   "source": [
    "# Displaying first 1000 character which have unneccesary line breaks because conversion from PDF to text file\n",
    "entire_text [10000:10500]"
   ]
  },
  {
   "cell_type": "code",
   "execution_count": 12,
   "metadata": {},
   "outputs": [
    {
     "data": {
      "text/plain": [
       "' thoroughly old-fashioned, for of course I wanted to see all I could of the ways of the country. I was evidently expected, for when I got near the door I faced a cheery-looking elderly woman in the usual peasant dress--white undergarment with long double apron, front, and back, of coloured stuff fitting almost too tight for modesty. When I came close she bowed and said, \"The Herr Englishman?\" \"Yes,\" I said, \"Jonathan Harker.\" She smiled, and gave some message to an elderly man in white shirt-sle'"
      ]
     },
     "execution_count": 12,
     "metadata": {},
     "output_type": "execute_result"
    }
   ],
   "source": [
    "# Replacing the line breaks with space to mitigate unneccesary line breaks\n",
    "\n",
    "entire_text = entire_text.replace('\\n', ' ')\n",
    "entire_text [10000:10500]"
   ]
  },
  {
   "cell_type": "markdown",
   "metadata": {},
   "source": [
    "**Note** : The '\\n' characters is replaced with spaces"
   ]
  },
  {
   "cell_type": "code",
   "execution_count": 10,
   "metadata": {},
   "outputs": [],
   "source": [
    "# Using NLP creating the doc_object\n",
    "doc_object = nlp(entire_text)\n",
    "\n",
    "### stripping the sentences\n",
    "\n",
    "sentences = [sent.string.strip() for sent in doc_object.sents]"
   ]
  },
  {
   "cell_type": "markdown",
   "metadata": {},
   "source": [
    "**Note**: The doc_object creation is part of Q2 also"
   ]
  },
  {
   "cell_type": "markdown",
   "metadata": {},
   "source": [
    "### Answer"
   ]
  },
  {
   "cell_type": "code",
   "execution_count": 13,
   "metadata": {},
   "outputs": [
    {
     "name": "stdout",
     "output_type": "stream",
     "text": [
      "The number of sentences in the text file is 9567\n"
     ]
    }
   ],
   "source": [
    "print ( 'The number of sentences in the text file is ' + str(len(sentences)))"
   ]
  },
  {
   "cell_type": "markdown",
   "metadata": {},
   "source": []
  },
  {
   "cell_type": "markdown",
   "metadata": {},
   "source": [
    "### Q 2 : POS Tags"
   ]
  },
  {
   "cell_type": "code",
   "execution_count": 92,
   "metadata": {},
   "outputs": [
    {
     "data": {
      "text/plain": [
       "'We could see now the sandy road lying white before us, but there was on it no sign of a vehicle.'"
      ]
     },
     "execution_count": 92,
     "metadata": {},
     "output_type": "execute_result"
    }
   ],
   "source": [
    "##Taking a random sentance\n",
    "sentences[200]"
   ]
  },
  {
   "cell_type": "code",
   "execution_count": 107,
   "metadata": {},
   "outputs": [],
   "source": [
    "def show_noun_chunks(sentence):\n",
    "    doc_object = nlp(sentence)\n",
    "            \n",
    "    print(f\" {'Token':{10}} {'POS Tag':{10}} {'Token Dependency':{20}} {'Explanation':{30}} {'Stop word'}\")\n",
    "    for token in doc_object:\n",
    "        print(f\" {str(token):{10}} {token.pos_:{10}} {token.pos_:{20}} {spacy.explain(token.pos_):{30}} {nlp.vocab[token.text].is_stop}\")\n",
    "       \n"
   ]
  },
  {
   "cell_type": "markdown",
   "metadata": {},
   "source": [
    "### Answer"
   ]
  },
  {
   "cell_type": "code",
   "execution_count": 108,
   "metadata": {},
   "outputs": [
    {
     "name": "stdout",
     "output_type": "stream",
     "text": [
      " Token      POS Tag    Token Dependency     Explanation                    Stop word\n",
      " We         PRON       PRON                 pronoun                        False\n",
      " could      VERB       VERB                 verb                           True\n",
      " see        VERB       VERB                 verb                           True\n",
      " now        ADV        ADV                  adverb                         True\n",
      " the        DET        DET                  determiner                     True\n",
      " sandy      ADJ        ADJ                  adjective                      False\n",
      " road       NOUN       NOUN                 noun                           False\n",
      " lying      VERB       VERB                 verb                           False\n",
      " white      ADJ        ADJ                  adjective                      False\n",
      " before     ADP        ADP                  adposition                     True\n",
      " us         PRON       PRON                 pronoun                        True\n",
      " ,          PUNCT      PUNCT                punctuation                    False\n",
      " but        CCONJ      CCONJ                coordinating conjunction       True\n",
      " there      ADV        ADV                  adverb                         True\n",
      " was        VERB       VERB                 verb                           True\n",
      " on         ADP        ADP                  adposition                     True\n",
      " it         PRON       PRON                 pronoun                        True\n",
      " no         DET        DET                  determiner                     True\n",
      " sign       NOUN       NOUN                 noun                           False\n",
      " of         ADP        ADP                  adposition                     True\n",
      " a          DET        DET                  determiner                     True\n",
      " vehicle    NOUN       NOUN                 noun                           False\n",
      " .          PUNCT      PUNCT                punctuation                    False\n"
     ]
    }
   ],
   "source": [
    "show_noun_chunks(sentences[200])   "
   ]
  },
  {
   "cell_type": "markdown",
   "metadata": {},
   "source": [
    "### Q3: Regular Expression"
   ]
  },
  {
   "cell_type": "markdown",
   "metadata": {},
   "source": [
    "Regular expression is represntation style for sequence of characters which is used for pattern matching in a text based searching.\n"
   ]
  },
  {
   "cell_type": "code",
   "execution_count": 84,
   "metadata": {},
   "outputs": [
    {
     "name": "stdout",
     "output_type": "stream",
     "text": [
      "The first time : <re.Match object; span=(416675, 416680), match='10:18'>\n"
     ]
    },
    {
     "data": {
      "text/plain": [
       "['10:18', '10:30', '10:30', '12:30', '12:45', '11:40']"
      ]
     },
     "execution_count": 84,
     "metadata": {},
     "output_type": "execute_result"
    }
   ],
   "source": [
    "import re\n",
    "\n",
    "#re.search (pattern, entire_text)\n",
    "\n",
    "search_pattern = r'\\d\\d:\\d\\d'\n",
    "time = re.search(search_pattern, entire_text)\n",
    "print('The first time : ' + str(time))\n",
    "\n",
    "search_pattern = r'\\d\\d:\\d\\d'\n",
    "time = re.findall(search_pattern, entire_text)\n",
    "time"
   ]
  },
  {
   "cell_type": "markdown",
   "metadata": {},
   "source": [
    "### Answer\n",
    "\n",
    "The count of each charcaters mentioned is counted using the regular expression"
   ]
  },
  {
   "cell_type": "code",
   "execution_count": 87,
   "metadata": {},
   "outputs": [
    {
     "name": "stdout",
     "output_type": "stream",
     "text": [
      "The character  Godalming  mentioned  89 times\n",
      "The character  Morris  mentioned  77 times\n",
      "The character  Helsing  mentioned  317 times\n",
      "The character  Lucy  mentioned  298 times\n"
     ]
    }
   ],
   "source": [
    "\n",
    "search_patterns = [r'Godalming', r'Morris',  r'Helsing' ,  r'Lucy' ] \n",
    "\n",
    "for pattern in search_patterns:\n",
    "    occurance = re.findall(pattern, entire_text)\n",
    "    print ('The character ' , pattern , ' mentioned ' , len(occurance) , 'times')"
   ]
  },
  {
   "cell_type": "markdown",
   "metadata": {},
   "source": []
  },
  {
   "cell_type": "markdown",
   "metadata": {},
   "source": [
    "### Q4: POS Frequency"
   ]
  },
  {
   "cell_type": "code",
   "execution_count": 123,
   "metadata": {},
   "outputs": [
    {
     "name": "stdout",
     "output_type": "stream",
     "text": [
      "     tag_id doc_object       explanation                    occurrences\n",
      "         96 PUNCT           punctuation                    27813\n",
      "         98 SYM             symbol                         12\n",
      "         99 VERB            verb                           35442\n",
      "        100 X               other                          53\n",
      "        102 SPACE           space                          3028\n",
      "         83 ADJ             adjective                      16201\n",
      "         84 ADP             adposition                     21842\n",
      "         85 ADV             adverb                         13443\n",
      "         88 CCONJ           coordinating conjunction       7787\n",
      "         89 DET             determiner                     14955\n",
      "         90 INTJ            interjection                   443\n",
      "         91 NOUN            noun                           26781\n",
      "         92 NUM             numeral                        1076\n",
      "         93 PART            particle                       4732\n",
      "         94 PRON            pronoun                        18106\n",
      "         95 PROPN           proper noun                    6482\n"
     ]
    }
   ],
   "source": [
    "POS_frequency = doc_object.count_by(spacy.attrs.POS)\n",
    "# Using the \".items()\" command accesses each item in the dictionary\n",
    "print(f\" {'tag_id':>{10}} {'doc_object':{15}}  {'explanation':{30}} {'occurrences'}\")\n",
    "for tag_id, occurrences in POS_frequency.items():\n",
    "        print(f\" {tag_id:>{10}} {doc_object.vocab[tag_id].text:{15}} {spacy.explain(doc_object.vocab[tag_id].text):{30}} {occurrences}\")"
   ]
  },
  {
   "cell_type": "markdown",
   "metadata": {},
   "source": [
    "### Q5 Rule based matching"
   ]
  },
  {
   "cell_type": "code",
   "execution_count": null,
   "metadata": {},
   "outputs": [],
   "source": []
  }
 ],
 "metadata": {
  "kernelspec": {
   "display_name": "Python 3",
   "language": "python",
   "name": "python3"
  },
  "language_info": {
   "codemirror_mode": {
    "name": "ipython",
    "version": 3
   },
   "file_extension": ".py",
   "mimetype": "text/x-python",
   "name": "python",
   "nbconvert_exporter": "python",
   "pygments_lexer": "ipython3",
   "version": "3.7.6"
  }
 },
 "nbformat": 4,
 "nbformat_minor": 4
}

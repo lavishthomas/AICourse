{
 "cells": [
  {
   "cell_type": "code",
   "execution_count": 224,
   "metadata": {},
   "outputs": [],
   "source": [
    "# import spacy\n",
    "import spacy\n",
    "nlp = spacy.load(\"en_core_web_sm\")\n"
   ]
  },
  {
   "cell_type": "code",
   "execution_count": 225,
   "metadata": {},
   "outputs": [
    {
     "name": "stdout",
     "output_type": "stream",
     "text": [
      "He ( PRON ) \n",
      " determined ( VERB ) \n",
      " to ( PART ) \n",
      " drop ( VERB ) \n",
      " his ( ADJ ) \n",
      " litigation ( NOUN ) \n",
      " with ( ADP ) \n",
      " the ( DET ) \n",
      " monastry ( NOUN ) \n",
      " , ( PUNCT ) \n",
      " and ( CCONJ ) \n",
      " relinguish ( VERB ) \n",
      " his ( ADJ ) \n",
      " claims ( NOUN ) \n",
      " to ( ADP ) \n",
      " the ( DET ) \n",
      " wood ( NOUN ) \n",
      " - ( PUNCT ) \n",
      " cuting ( NOUN ) \n",
      " and ( CCONJ ) \n",
      " fishery ( NOUN ) \n",
      " rihgts ( NOUN ) \n",
      " at ( ADP ) \n",
      " once ( ADV ) \n",
      " . ( PUNCT ) \n",
      " He ( PRON ) \n",
      " was ( VERB ) \n",
      " the ( DET ) \n",
      " more ( ADV ) \n",
      " ready ( ADJ ) \n",
      " to ( PART ) \n",
      " do ( VERB ) \n",
      " this ( DET ) \n",
      " becuase ( VERB ) \n",
      " the ( DET ) \n",
      " rights ( NOUN ) \n",
      " had ( VERB ) \n",
      " become ( VERB ) \n",
      " much ( ADV ) \n",
      " less ( ADV ) \n",
      " valuable ( ADJ ) \n",
      " , ( PUNCT ) \n",
      " and ( CCONJ ) \n",
      " he ( PRON ) \n",
      " had ( VERB ) \n",
      " indeed ( ADV ) \n",
      " the ( DET ) \n",
      " vaguest ( ADJ ) \n",
      " idea ( NOUN ) \n",
      " where ( ADV ) \n",
      " the ( DET ) \n",
      " wood ( NOUN ) \n",
      " and ( CCONJ ) \n",
      " river ( NOUN ) \n",
      " in ( ADP ) \n",
      " question ( NOUN ) \n",
      " were ( VERB ) \n",
      " "
     ]
    }
   ],
   "source": [
    "my_text_file = open(\"stop-words2.txt\")\n",
    "sentence = my_text_file.read()\n",
    "\n",
    "doc_object = nlp(sentence)\n",
    "\n",
    "for token in doc_object:\n",
    "    print(token.text, \"(\",token.pos_, \")\", end=\" \\n \")"
   ]
  },
  {
   "cell_type": "code",
   "execution_count": 226,
   "metadata": {},
   "outputs": [
    {
     "data": {
      "text/plain": [
       "{'He',\n",
       " 'a',\n",
       " 'about',\n",
       " 'above',\n",
       " 'across',\n",
       " 'after',\n",
       " 'afterwards',\n",
       " 'again',\n",
       " 'against',\n",
       " 'all',\n",
       " 'almost',\n",
       " 'alone',\n",
       " 'along',\n",
       " 'already',\n",
       " 'also',\n",
       " 'although',\n",
       " 'always',\n",
       " 'am',\n",
       " 'among',\n",
       " 'amongst',\n",
       " 'amount',\n",
       " 'an',\n",
       " 'and',\n",
       " 'another',\n",
       " 'any',\n",
       " 'anyhow',\n",
       " 'anyone',\n",
       " 'anything',\n",
       " 'anyway',\n",
       " 'anywhere',\n",
       " 'are',\n",
       " 'around',\n",
       " 'as',\n",
       " 'at',\n",
       " 'back',\n",
       " 'be',\n",
       " 'became',\n",
       " 'because',\n",
       " 'become',\n",
       " 'becomes',\n",
       " 'becoming',\n",
       " 'been',\n",
       " 'before',\n",
       " 'beforehand',\n",
       " 'behind',\n",
       " 'being',\n",
       " 'below',\n",
       " 'beside',\n",
       " 'besides',\n",
       " 'between',\n",
       " 'beyond',\n",
       " 'both',\n",
       " 'bottom',\n",
       " 'but',\n",
       " 'by',\n",
       " 'ca',\n",
       " 'call',\n",
       " 'can',\n",
       " 'cannot',\n",
       " 'could',\n",
       " 'did',\n",
       " 'do',\n",
       " 'does',\n",
       " 'doing',\n",
       " 'done',\n",
       " 'down',\n",
       " 'due',\n",
       " 'during',\n",
       " 'each',\n",
       " 'eight',\n",
       " 'either',\n",
       " 'eleven',\n",
       " 'else',\n",
       " 'elsewhere',\n",
       " 'empty',\n",
       " 'enough',\n",
       " 'even',\n",
       " 'ever',\n",
       " 'every',\n",
       " 'everyone',\n",
       " 'everything',\n",
       " 'everywhere',\n",
       " 'except',\n",
       " 'few',\n",
       " 'fifteen',\n",
       " 'fifty',\n",
       " 'first',\n",
       " 'five',\n",
       " 'for',\n",
       " 'former',\n",
       " 'formerly',\n",
       " 'forty',\n",
       " 'four',\n",
       " 'from',\n",
       " 'front',\n",
       " 'full',\n",
       " 'further',\n",
       " 'get',\n",
       " 'give',\n",
       " 'go',\n",
       " 'had',\n",
       " 'has',\n",
       " 'have',\n",
       " 'he',\n",
       " 'hence',\n",
       " 'her',\n",
       " 'here',\n",
       " 'hereafter',\n",
       " 'hereby',\n",
       " 'herein',\n",
       " 'hereupon',\n",
       " 'hers',\n",
       " 'herself',\n",
       " 'him',\n",
       " 'himself',\n",
       " 'his',\n",
       " 'how',\n",
       " 'however',\n",
       " 'hundred',\n",
       " 'i',\n",
       " 'if',\n",
       " 'in',\n",
       " 'indeed',\n",
       " 'into',\n",
       " 'is',\n",
       " 'it',\n",
       " 'its',\n",
       " 'itself',\n",
       " 'just',\n",
       " 'keep',\n",
       " 'last',\n",
       " 'latter',\n",
       " 'latterly',\n",
       " 'least',\n",
       " 'less',\n",
       " 'made',\n",
       " 'make',\n",
       " 'many',\n",
       " 'may',\n",
       " 'me',\n",
       " 'meanwhile',\n",
       " 'might',\n",
       " 'mine',\n",
       " 'more',\n",
       " 'moreover',\n",
       " 'most',\n",
       " 'mostly',\n",
       " 'move',\n",
       " 'much',\n",
       " 'must',\n",
       " 'my',\n",
       " 'myself',\n",
       " 'name',\n",
       " 'namely',\n",
       " 'neither',\n",
       " 'never',\n",
       " 'nevertheless',\n",
       " 'next',\n",
       " 'nine',\n",
       " 'no',\n",
       " 'nobody',\n",
       " 'none',\n",
       " 'noone',\n",
       " 'nor',\n",
       " 'not',\n",
       " 'nothing',\n",
       " 'now',\n",
       " 'nowhere',\n",
       " 'of',\n",
       " 'off',\n",
       " 'often',\n",
       " 'on',\n",
       " 'once',\n",
       " 'one',\n",
       " 'only',\n",
       " 'onto',\n",
       " 'or',\n",
       " 'other',\n",
       " 'others',\n",
       " 'otherwise',\n",
       " 'our',\n",
       " 'ours',\n",
       " 'ourselves',\n",
       " 'out',\n",
       " 'over',\n",
       " 'own',\n",
       " 'part',\n",
       " 'per',\n",
       " 'perhaps',\n",
       " 'please',\n",
       " 'put',\n",
       " 'quite',\n",
       " 'rather',\n",
       " 're',\n",
       " 'really',\n",
       " 'regarding',\n",
       " 'same',\n",
       " 'say',\n",
       " 'see',\n",
       " 'seem',\n",
       " 'seemed',\n",
       " 'seeming',\n",
       " 'seems',\n",
       " 'serious',\n",
       " 'several',\n",
       " 'she',\n",
       " 'should',\n",
       " 'show',\n",
       " 'side',\n",
       " 'since',\n",
       " 'six',\n",
       " 'sixty',\n",
       " 'so',\n",
       " 'some',\n",
       " 'somehow',\n",
       " 'someone',\n",
       " 'something',\n",
       " 'sometime',\n",
       " 'sometimes',\n",
       " 'somewhere',\n",
       " 'still',\n",
       " 'such',\n",
       " 'take',\n",
       " 'ten',\n",
       " 'than',\n",
       " 'that',\n",
       " 'the',\n",
       " 'their',\n",
       " 'them',\n",
       " 'themselves',\n",
       " 'then',\n",
       " 'thence',\n",
       " 'there',\n",
       " 'thereafter',\n",
       " 'thereby',\n",
       " 'therefore',\n",
       " 'therein',\n",
       " 'thereupon',\n",
       " 'these',\n",
       " 'they',\n",
       " 'third',\n",
       " 'this',\n",
       " 'those',\n",
       " 'though',\n",
       " 'three',\n",
       " 'through',\n",
       " 'throughout',\n",
       " 'thru',\n",
       " 'thus',\n",
       " 'to',\n",
       " 'together',\n",
       " 'too',\n",
       " 'top',\n",
       " 'toward',\n",
       " 'towards',\n",
       " 'twelve',\n",
       " 'twenty',\n",
       " 'two',\n",
       " 'under',\n",
       " 'unless',\n",
       " 'until',\n",
       " 'up',\n",
       " 'upon',\n",
       " 'us',\n",
       " 'used',\n",
       " 'using',\n",
       " 'various',\n",
       " 'very',\n",
       " 'via',\n",
       " 'was',\n",
       " 'we',\n",
       " 'well',\n",
       " 'were',\n",
       " 'what',\n",
       " 'whatever',\n",
       " 'when',\n",
       " 'whence',\n",
       " 'whenever',\n",
       " 'where',\n",
       " 'whereafter',\n",
       " 'whereas',\n",
       " 'whereby',\n",
       " 'wherein',\n",
       " 'whereupon',\n",
       " 'wherever',\n",
       " 'whether',\n",
       " 'which',\n",
       " 'while',\n",
       " 'whither',\n",
       " 'who',\n",
       " 'whoever',\n",
       " 'whole',\n",
       " 'whom',\n",
       " 'whose',\n",
       " 'why',\n",
       " 'will',\n",
       " 'with',\n",
       " 'within',\n",
       " 'without',\n",
       " 'would',\n",
       " 'yet',\n",
       " 'you',\n",
       " 'your',\n",
       " 'yours',\n",
       " 'yourself',\n",
       " 'yourselves'}"
      ]
     },
     "execution_count": 226,
     "metadata": {},
     "output_type": "execute_result"
    }
   ],
   "source": [
    "nlp.Defaults.stop_words"
   ]
  },
  {
   "cell_type": "code",
   "execution_count": 227,
   "metadata": {},
   "outputs": [],
   "source": [
    "nlp.Defaults.stop_words.add('He')\n",
    "nlp.vocab[\"He\"].is_stop = True"
   ]
  },
  {
   "cell_type": "code",
   "execution_count": 228,
   "metadata": {},
   "outputs": [],
   "source": [
    "cusomised_stop_words = [\"btw\", \"Btw\" , \"Lol\", \"lol\"]\n",
    "for word in cusomised_stop_words:\n",
    "    nlp.vocab[word].is_stop = True "
   ]
  },
  {
   "cell_type": "code",
   "execution_count": 229,
   "metadata": {},
   "outputs": [
    {
     "data": {
      "text/plain": [
       "True"
      ]
     },
     "execution_count": 229,
     "metadata": {},
     "output_type": "execute_result"
    }
   ],
   "source": [
    "nlp.vocab[\"btw\"].is_stop"
   ]
  },
  {
   "cell_type": "code",
   "execution_count": 230,
   "metadata": {},
   "outputs": [
    {
     "name": "stdout",
     "output_type": "stream",
     "text": [
      "Words ( NOUN ) \n",
      " like ( ADP ) \n",
      " \" ( PUNCT ) \n",
      " a ( DET ) \n",
      " \" ( PUNCT ) \n",
      " and ( CCONJ ) \n",
      " \" ( PUNCT ) \n",
      " the ( DET ) \n",
      " \" ( PUNCT ) \n",
      " are ( VERB ) \n",
      " called ( VERB ) \n",
      " stop ( NOUN ) \n",
      " --- ( PUNCT ) \n",
      " words ( NOUN ) \n",
      " . ( PUNCT ) \n",
      " \n",
      " ( SPACE ) \n",
      " Sometimes ( ADV ) \n",
      " this ( DET ) \n",
      " can ( VERB ) \n",
      " be ( VERB ) \n",
      " written ( VERB ) \n",
      " as ( ADP ) \n",
      " stop ( VERB ) \n",
      " - ( PUNCT ) \n",
      " words ( NOUN ) \n",
      " or ( CCONJ ) \n",
      " stopwords ( NOUN ) \n",
      " . ( PUNCT ) \n",
      " \n",
      " ( SPACE ) \n",
      " Each ( DET ) \n",
      " stop ( NOUN ) \n",
      " word ( NOUN ) \n",
      " can ( VERB ) \n",
      " be ( VERB ) \n",
      " filtered ( VERB ) \n",
      " from ( ADP ) \n",
      " the ( DET ) \n",
      " text ( NOUN ) \n",
      " to ( PART ) \n",
      " be ( VERB ) \n",
      " processed ( VERB ) \n",
      " . ( PUNCT ) \n",
      " \n",
      " ( SPACE ) \n",
      " spaCy ( ADJ ) \n",
      " holds ( VERB ) \n",
      " a ( DET ) \n",
      " built ( VERB ) \n",
      " - ( PUNCT ) \n",
      " in ( PART ) \n",
      " list ( NOUN ) \n",
      " of ( ADP ) \n",
      " some ( DET ) \n",
      " 305 ( NUM ) \n",
      " English ( ADJ ) \n",
      " stop ( NOUN ) \n",
      " -- ( PUNCT ) \n",
      " words ( NOUN ) \n",
      " . ( PUNCT ) \n",
      " "
     ]
    }
   ],
   "source": [
    "my_text_file = open(\"stop-words.txt\")\n",
    "sentence = my_text_file.read()\n",
    "\n",
    "doc_object = nlp(sentence)\n",
    "\n",
    "for token in doc_object:\n",
    "    print(token.text, \"(\",token.pos_, \")\", end=\" \\n \")"
   ]
  },
  {
   "cell_type": "code",
   "execution_count": 231,
   "metadata": {},
   "outputs": [],
   "source": [
    "token_match1 = [{\"LOWER\" : \"stopword\" }]\n",
    "token_match2 = [{\"LOWER\" : \"stopwords\" }]\n",
    "token_match3 = [{\"LOWER\" : \"stop\" }, {\"IS_PUNCT\" : True}, {\"LOWER\":\"words\"} ]\n",
    "token_match4 = [{\"LOWER\" : \"stop\" }, {\"LOWER\":\"word\"} ] # stop word\n",
    "token_match5 = [{\"LOWER\" : \"stop\" }, {\"LOWER\":\"words\"} ] # stop words"
   ]
  },
  {
   "cell_type": "code",
   "execution_count": 232,
   "metadata": {},
   "outputs": [],
   "source": [
    "from spacy.matcher import Matcher\n",
    "matcher = Matcher(nlp.vocab)\n"
   ]
  },
  {
   "cell_type": "code",
   "execution_count": 233,
   "metadata": {},
   "outputs": [],
   "source": [
    "doc_object = nlp(sentence)"
   ]
  },
  {
   "cell_type": "code",
   "execution_count": 234,
   "metadata": {},
   "outputs": [
    {
     "name": "stdout",
     "output_type": "stream",
     "text": [
      "(17470060577089942448, 11, 14)\n",
      "(17470060577089942448, 22, 25)\n",
      "(17470060577089942448, 26, 27)\n",
      "(17470060577089942448, 30, 32)\n",
      "(17470060577089942448, 54, 57)\n"
     ]
    }
   ],
   "source": [
    "for token in token_matches:\n",
    "    print(token)"
   ]
  },
  {
   "cell_type": "code",
   "execution_count": 235,
   "metadata": {},
   "outputs": [],
   "source": [
    "matcher.add(\"StopWord\" , None , \n",
    "            token_match1 , \n",
    "            token_match2, \n",
    "            token_match3, \n",
    "            token_match4, \n",
    "            token_match5)"
   ]
  },
  {
   "cell_type": "code",
   "execution_count": 236,
   "metadata": {},
   "outputs": [
    {
     "data": {
      "text/plain": [
       "<spacy.matcher.Matcher at 0x2c4d4685208>"
      ]
     },
     "execution_count": 236,
     "metadata": {},
     "output_type": "execute_result"
    }
   ],
   "source": [
    "matcher"
   ]
  },
  {
   "cell_type": "code",
   "execution_count": 237,
   "metadata": {},
   "outputs": [],
   "source": [
    "token_matches = matcher(doc_object)\n"
   ]
  },
  {
   "cell_type": "code",
   "execution_count": 238,
   "metadata": {},
   "outputs": [
    {
     "data": {
      "text/plain": [
       "[(17470060577089942448, 11, 14),\n",
       " (17470060577089942448, 22, 25),\n",
       " (17470060577089942448, 26, 27),\n",
       " (17470060577089942448, 30, 32),\n",
       " (17470060577089942448, 54, 57)]"
      ]
     },
     "execution_count": 238,
     "metadata": {},
     "output_type": "execute_result"
    }
   ],
   "source": [
    "token_matches\n"
   ]
  },
  {
   "cell_type": "code",
   "execution_count": 239,
   "metadata": {},
   "outputs": [],
   "source": [
    "from spacy.matcher import PhraseMatcher\n",
    "matcher = PhraseMatcher(nlp.vocab)"
   ]
  },
  {
   "cell_type": "code",
   "execution_count": 240,
   "metadata": {},
   "outputs": [
    {
     "name": "stdout",
     "output_type": "stream",
     "text": [
      "17470060577089942448 StopWord                     11         14 stop---words\n",
      "17470060577089942448 StopWord                     22         25 stop-words\n",
      "17470060577089942448 StopWord                     26         27 stopwords \n",
      "17470060577089942448 StopWord                     30         32 stop word \n",
      "17470060577089942448 StopWord                     54         57 stop--words\n"
     ]
    }
   ],
   "source": [
    "for match_id, start , end in token_matches:\n",
    "    matcher_id = nlp.vocab.strings[match_id]\n",
    "    matched_word = doc_object[start:end]\n",
    "    print(f\"{match_id:{20}} {matcher_id :{20}} {start:{10}} {end:{10}} {matched_word.text:{10}}\")"
   ]
  },
  {
   "cell_type": "code",
   "execution_count": 241,
   "metadata": {},
   "outputs": [
    {
     "data": {
      "text/plain": [
       "'StopWord'"
      ]
     },
     "execution_count": 241,
     "metadata": {},
     "output_type": "execute_result"
    }
   ],
   "source": [
    "nlp.vocab.strings[17470060577089942448]"
   ]
  },
  {
   "cell_type": "code",
   "execution_count": 242,
   "metadata": {},
   "outputs": [],
   "source": [
    "# text_file = open(\"nlp.txt\")\n",
    "# file = text_file.read()\n",
    "\n",
    "with open(\"nlp.txt\", encoding = \"utf8\") as text_file:\n",
    "    doc_object = nlp(text_file.read())"
   ]
  },
  {
   "cell_type": "code",
   "execution_count": 243,
   "metadata": {},
   "outputs": [
    {
     "data": {
      "text/plain": [
       "The history of natural language processing (NLP) generally started in the 1950s, although work can be found from earlier periods. In 1950, Alan Turing published an article titled \"Computing Machinery and Intelligence\" which proposed what is now called the Turing test as a criterion of intelligence[clarification needed].\n",
       "\n",
       "The Georgetown experiment in 1954 involved fully automatic translation of more than sixty Russian sentences into English. The authors claimed that within three or five years, machine translation would be a solved problem.[2] However, real progress was much slower, and after the ALPAC report in 1966, which found that ten-year-long research had failed to fulfill the expectations, funding for machine translation was dramatically reduced. Little further research in machine translation was conducted until the late 1980s, when the first statistical machine translation systems were developed.\n",
       "\n",
       "Some notably successful natural language processing systems developed in the 1960s were SHRDLU, a natural language system working in restricted \"blocks worlds\" with restricted vocabularies, and ELIZA, a simulation of a Rogerian psychotherapist, written by Joseph Weizenbaum between 1964 and 1966. Using almost no information about human thought or emotion, ELIZA sometimes provided a startlingly human-like interaction. When the \"patient\" exceeded the very small knowledge base, ELIZA might provide a generic response, for example, responding to \"My head hurts\" with \"Why do you say your head hurts?\".\n",
       "\n",
       "During the 1970s, many programmers began to write \"conceptual ontologies\", which structured real-world information into computer-understandable data. Examples are MARGIE (Schank, 1975), SAM (Cullingford, 1978), PAM (Wilensky, 1978), TaleSpin (Meehan, 1976), QUALM (Lehnert, 1977), Politics (Carbonell, 1979), and Plot Units (Lehnert 1981). During this time, many chatterbots were written including PARRY, Racter, and Jabberwacky.\n",
       "\n",
       "Up to the 1980s, most natural language processing systems were based on complex sets of hand-written rules. Starting in the late 1980s, however, there was a revolution in natural language processing with the introduction of machine learning algorithms for language processing. This was due to both the steady increase in computational power (see Moore's law) and the gradual lessening of the dominance of Chomskyan theories of linguistics (e.g. transformational grammar), whose theoretical underpinnings discouraged the sort of corpus linguistics that underlies the machine-learning approach to language processing.[3] Some of the earliest-used machine learning algorithms, such as decision trees, produced systems of hard if-then rules similar to existing hand-written rules. However, part-of-speech tagging introduced the use of hidden Markov models to natural language processing, and increasingly, research has focused on statistical models, which make soft, probabilistic decisions based on attaching real-valued weights to the features making up the input data. The cache language models upon which many speech recognition systems now rely are examples of such statistical models. Such models are generally more robust when given unfamiliar input, especially input that contains errors (as is very common for real-world data), and produce more reliable results when integrated into a larger system comprising multiple subtasks.\n",
       "\n",
       "Many of the notable early successes occurred in the field of machine translation, due especially to work at IBM Research, where successively more complicated statistical models were developed. These systems were able to take advantage of existing multilingual textual corpora that had been produced by the Parliament of Canada and the European Union as a result of laws calling for the translation of all governmental proceedings into all official languages of the corresponding systems of government. However, most other systems depended on corpora specifically developed for the tasks implemented by these systems, which was (and often continues to be) a major limitation in the success of these systems. As a result, a great deal of research has gone into methods of more effectively learning from limited amounts of data.\n",
       "\n",
       "Recent research has increasingly focused on unsupervised and semi-supervised learning algorithms. Such algorithms are able to learn from data that has not been hand-annotated with the desired answers, or using a combination of annotated and non-annotated data. Generally, this task is much more difficult than supervised learning, and typically produces less accurate results for a given amount of input data. However, there is an enormous amount of non-annotated data available (including, among other things, the entire content of the World Wide Web), which can often make up for the inferior results if the algorithm used has a low enough time complexity to be practical.\n",
       "\n",
       "In the 2010s, representation learning and deep neural network-style machine learning methods became widespread in natural language processing, due in part to a flurry of results showing that such techniques[4][5] can achieve state-of-the-art results in many natural language tasks, for example in language modeling,[6] parsing,[7][8] and many others. Popular techniques include the use of word embeddings to capture semantic properties of words, and an increase in end-to-end learning of a higher-level task (e.g., question answering) instead of relying on a pipeline of separate intermediate tasks (e.g., part-of-speech tagging and dependency parsing). In some areas, this shift has entailed substantial changes in how NLP systems are designed, such that deep neural network-based approaches may be viewed as a new paradigm distinct from statistical natural language processing. For instance, the term neural machine translation (NMT) emphasizes the fact that deep learning-based approaches to machine translation directly learn sequence-to-sequence transformations, obviating the need for intermediate steps such as word alignment and language modeling that were used in statistical machine translation (SMT)."
      ]
     },
     "execution_count": 243,
     "metadata": {},
     "output_type": "execute_result"
    }
   ],
   "source": [
    "doc_object"
   ]
  },
  {
   "cell_type": "code",
   "execution_count": 244,
   "metadata": {},
   "outputs": [],
   "source": [
    "phrase_list = [\"natural laguage processing\", \"machine learning\" , \"supervised learning\", \"machine translation\"]"
   ]
  },
  {
   "cell_type": "code",
   "execution_count": 245,
   "metadata": {},
   "outputs": [
    {
     "data": {
      "text/plain": [
       "['natural laguage processing',\n",
       " 'machine learning',\n",
       " 'supervised learning',\n",
       " 'machine translation']"
      ]
     },
     "execution_count": 245,
     "metadata": {},
     "output_type": "execute_result"
    }
   ],
   "source": [
    "phrase_list"
   ]
  },
  {
   "cell_type": "code",
   "execution_count": 246,
   "metadata": {},
   "outputs": [],
   "source": [
    "phrase_patterns = [nlp.make_doc(word) for wod in phrase_list]"
   ]
  },
  {
   "cell_type": "code",
   "execution_count": 247,
   "metadata": {},
   "outputs": [],
   "source": [
    "phrase_patterns = []\n",
    "for word in phrase_list:\n",
    "    phrase_patterns.append(nlp.make_doc(word))"
   ]
  },
  {
   "cell_type": "code",
   "execution_count": 248,
   "metadata": {},
   "outputs": [
    {
     "name": "stdout",
     "output_type": "stream",
     "text": [
      "[natural laguage processing, machine learning, supervised learning, machine translation]\n"
     ]
    }
   ],
   "source": [
    "print(phrase_patterns)"
   ]
  },
  {
   "cell_type": "code",
   "execution_count": 252,
   "metadata": {},
   "outputs": [],
   "source": [
    "matches = matcher.add(\"NLP\", None, *phrase_patterns)"
   ]
  },
  {
   "cell_type": "code",
   "execution_count": 254,
   "metadata": {},
   "outputs": [],
   "source": [
    "matches = matcher (doc_object)"
   ]
  },
  {
   "cell_type": "code",
   "execution_count": 255,
   "metadata": {},
   "outputs": [
    {
     "data": {
      "text/plain": [
       "[(15832915187156881108, 85, 87),\n",
       " (15832915187156881108, 127, 129),\n",
       " (15832915187156881108, 137, 139),\n",
       " (15832915187156881108, 150, 152),\n",
       " (15832915187156881108, 403, 405),\n",
       " (15832915187156881108, 471, 473),\n",
       " (15832915187156881108, 622, 624),\n",
       " (15832915187156881108, 762, 764),\n",
       " (15832915187156881108, 807, 809),\n",
       " (15832915187156881108, 890, 892),\n",
       " (15832915187156881108, 1047, 1049),\n",
       " (15832915187156881108, 1062, 1064),\n",
       " (15832915187156881108, 1091, 1093)]"
      ]
     },
     "execution_count": 255,
     "metadata": {},
     "output_type": "execute_result"
    }
   ],
   "source": [
    "matches"
   ]
  },
  {
   "cell_type": "code",
   "execution_count": null,
   "metadata": {},
   "outputs": [],
   "source": []
  }
 ],
 "metadata": {
  "kernelspec": {
   "display_name": "Python 3",
   "language": "python",
   "name": "python3"
  },
  "language_info": {
   "codemirror_mode": {
    "name": "ipython",
    "version": 3
   },
   "file_extension": ".py",
   "mimetype": "text/x-python",
   "name": "python",
   "nbconvert_exporter": "python",
   "pygments_lexer": "ipython3",
   "version": "3.7.6"
  }
 },
 "nbformat": 4,
 "nbformat_minor": 4
}
